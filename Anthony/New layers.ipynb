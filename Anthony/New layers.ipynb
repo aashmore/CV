{
  "cells": [
    {
      "cell_type": "markdown",
      "metadata": {
        "id": "view-in-github",
        "colab_type": "text"
      },
      "source": [
        "<a href=\"https://colab.research.google.com/github/aashmore/CV/blob/main/Anthony/New%20layers.ipynb\" target=\"_parent\"><img src=\"https://colab.research.google.com/assets/colab-badge.svg\" alt=\"Open In Colab\"/></a>"
      ]
    },
    {
      "cell_type": "markdown",
      "metadata": {
        "id": "j1n0fZOOs5vK"
      },
      "source": [
        "See https://github.com/PhilipVinc/Lectures/tree/main and https://github.com/netket/netket/tree/master/Examples for more examples.\n",
        "\n",
        "See also http://www.spintwo.net/Courses/Gauge-Theory-Student-Meetings/resources/Z2Ig.pdf for a map between 2d Ising and Z2 gauge theory."
      ]
    },
    {
      "cell_type": "markdown",
      "metadata": {
        "id": "5V05EARIf2jd"
      },
      "source": [
        "# Ground State Variational Searches with NetKet"
      ]
    },
    {
      "cell_type": "markdown",
      "metadata": {
        "id": "araXk5dUfP56"
      },
      "source": [
        "We start by recalling the Z2 gauge theory defined in 2012.05232:\n",
        "$$H= - J \\sum_{f\\in F} B_f - h \\sum_{e\\in E}X_e,$$\n",
        "where $B_f = \\prod_{e\\in f} Z_e$, where $F$ is the set of $1\\times 1$ plaquettes on the lattice, $e\\in f$ are the edges around the plaquette $f$, and $Z_e$ and $Z_e$ are the Pauli matrices.\n",
        "\n",
        "Follwing the discussion in http://www.spintwo.net/Courses/Gauge-Theory-Student-Meetings/resources/Z2Ig.pdf, this should be dual to a standard 2d tranverse Ising model of the form\n",
        "$$H= -J \\sum_{i,j} \\sigma_i^{(z)}\\sigma_{j}^{(z)}- h \\sum_i \\sigma_i^{(x)} .$$\n",
        "\n",
        "We start by checking this statement by computing the ground state energy in the the transverse Ising model and comparing with the results of 2012.05232. It seems they take $J=1$ and vary $h$ (see Figure S7 for example)."
      ]
    },
    {
      "cell_type": "markdown",
      "metadata": {
        "id": "1VDU28mxgDLW"
      },
      "source": [
        "## Installing NetKet"
      ]
    },
    {
      "cell_type": "markdown",
      "metadata": {
        "id": "BESNee4egHXd"
      },
      "source": [
        "On Google Colab, use the following command to install the required packages."
      ]
    },
    {
      "cell_type": "code",
      "execution_count": null,
      "metadata": {
        "id": "zN-iIXRbx229",
        "colab": {
          "base_uri": "https://localhost:8080/"
        },
        "outputId": "d0f96e19-ad78-4eb7-b73e-58c11ff2e9bc"
      },
      "outputs": [
        {
          "output_type": "stream",
          "name": "stdout",
          "text": [
            "Looking in indexes: https://pypi.org/simple, https://us-python.pkg.dev/colab-wheels/public/simple/\n",
            "Requirement already satisfied: matplotlib in /usr/local/lib/python3.10/dist-packages (3.7.1)\n",
            "Requirement already satisfied: contourpy>=1.0.1 in /usr/local/lib/python3.10/dist-packages (from matplotlib) (1.1.0)\n",
            "Requirement already satisfied: cycler>=0.10 in /usr/local/lib/python3.10/dist-packages (from matplotlib) (0.11.0)\n",
            "Requirement already satisfied: fonttools>=4.22.0 in /usr/local/lib/python3.10/dist-packages (from matplotlib) (4.40.0)\n",
            "Requirement already satisfied: kiwisolver>=1.0.1 in /usr/local/lib/python3.10/dist-packages (from matplotlib) (1.4.4)\n",
            "Requirement already satisfied: numpy>=1.20 in /usr/local/lib/python3.10/dist-packages (from matplotlib) (1.22.4)\n",
            "Requirement already satisfied: packaging>=20.0 in /usr/local/lib/python3.10/dist-packages (from matplotlib) (23.1)\n",
            "Requirement already satisfied: pillow>=6.2.0 in /usr/local/lib/python3.10/dist-packages (from matplotlib) (8.4.0)\n",
            "Requirement already satisfied: pyparsing>=2.3.1 in /usr/local/lib/python3.10/dist-packages (from matplotlib) (3.1.0)\n",
            "Requirement already satisfied: python-dateutil>=2.7 in /usr/local/lib/python3.10/dist-packages (from matplotlib) (2.8.2)\n",
            "Requirement already satisfied: six>=1.5 in /usr/local/lib/python3.10/dist-packages (from python-dateutil>=2.7->matplotlib) (1.16.0)\n"
          ]
        }
      ],
      "source": [
        "pip install --upgrade matplotlib"
      ]
    },
    {
      "cell_type": "code",
      "execution_count": 1,
      "metadata": {
        "colab": {
          "base_uri": "https://localhost:8080/"
        },
        "id": "vLSqb2vjgMpf",
        "outputId": "77a683dd-e4f0-4c21-d64d-976a21450497"
      },
      "outputs": [
        {
          "output_type": "stream",
          "name": "stdout",
          "text": [
            "Collecting netket\n",
            "  Downloading netket-3.8-py3-none-any.whl (485 kB)\n",
            "\u001b[?25l     \u001b[90m━━━━━━━━━━━━━━━━━━━━━━━━━━━━━━━━━━━━━━━━\u001b[0m \u001b[32m0.0/485.9 kB\u001b[0m \u001b[31m?\u001b[0m eta \u001b[36m-:--:--\u001b[0m\r\u001b[2K     \u001b[91m━━━━━━━━━━━━━━━━━━━━━━━━━━━━━━━━━━━━━\u001b[0m\u001b[91m╸\u001b[0m \u001b[32m481.3/485.9 kB\u001b[0m \u001b[31m16.4 MB/s\u001b[0m eta \u001b[36m0:00:01\u001b[0m\r\u001b[2K     \u001b[90m━━━━━━━━━━━━━━━━━━━━━━━━━━━━━━━━━━━━━━\u001b[0m \u001b[32m485.9/485.9 kB\u001b[0m \u001b[31m12.6 MB/s\u001b[0m eta \u001b[36m0:00:00\u001b[0m\n",
            "\u001b[?25hRequirement already satisfied: flax<0.7,>=0.6 in /usr/local/lib/python3.10/dist-packages (from netket) (0.6.11)\n",
            "Collecting igraph<0.11.0,>=0.9.8 (from netket)\n",
            "  Downloading igraph-0.10.5-cp39-abi3-manylinux_2_17_x86_64.manylinux2014_x86_64.whl (3.3 MB)\n",
            "\u001b[2K     \u001b[90m━━━━━━━━━━━━━━━━━━━━━━━━━━━━━━━━━━━━━━━━\u001b[0m \u001b[32m3.3/3.3 MB\u001b[0m \u001b[31m52.9 MB/s\u001b[0m eta \u001b[36m0:00:00\u001b[0m\n",
            "\u001b[?25hRequirement already satisfied: jax<0.5,>=0.3.16 in /usr/local/lib/python3.10/dist-packages (from netket) (0.4.10)\n",
            "Requirement already satisfied: jaxlib<0.5,>=0.3.15 in /usr/local/lib/python3.10/dist-packages (from netket) (0.4.10+cuda11.cudnn86)\n",
            "Collecting numba4jax<0.1,>=0.0.10 (from netket)\n",
            "  Downloading numba4jax-0.0.10.post3-py3-none-any.whl (15 kB)\n",
            "Requirement already satisfied: numba<0.58,>=0.52 in /usr/local/lib/python3.10/dist-packages (from netket) (0.56.4)\n",
            "Requirement already satisfied: numpy~=1.20 in /usr/local/lib/python3.10/dist-packages (from netket) (1.22.4)\n",
            "Requirement already satisfied: optax<0.2,>=0.1.3 in /usr/local/lib/python3.10/dist-packages (from netket) (0.1.5)\n",
            "Collecting orjson<4,>=3.4 (from netket)\n",
            "  Downloading orjson-3.9.2-cp310-cp310-manylinux_2_17_x86_64.manylinux2014_x86_64.whl (138 kB)\n",
            "\u001b[2K     \u001b[90m━━━━━━━━━━━━━━━━━━━━━━━━━━━━━━━━━━━━━━\u001b[0m \u001b[32m138.7/138.7 kB\u001b[0m \u001b[31m10.1 MB/s\u001b[0m eta \u001b[36m0:00:00\u001b[0m\n",
            "\u001b[?25hCollecting plum-dispatch<3,>=1.5.1 (from netket)\n",
            "  Downloading plum_dispatch-2.1.1-py3-none-any.whl (28 kB)\n",
            "Requirement already satisfied: scipy<2,>=1.5.3 in /usr/local/lib/python3.10/dist-packages (from netket) (1.10.1)\n",
            "Requirement already satisfied: tqdm<5,>=4.60 in /usr/local/lib/python3.10/dist-packages (from netket) (4.65.0)\n",
            "Requirement already satisfied: msgpack in /usr/local/lib/python3.10/dist-packages (from flax<0.7,>=0.6->netket) (1.0.5)\n",
            "Requirement already satisfied: orbax-checkpoint in /usr/local/lib/python3.10/dist-packages (from flax<0.7,>=0.6->netket) (0.2.6)\n",
            "Requirement already satisfied: tensorstore in /usr/local/lib/python3.10/dist-packages (from flax<0.7,>=0.6->netket) (0.1.38)\n",
            "Requirement already satisfied: rich>=11.1 in /usr/local/lib/python3.10/dist-packages (from flax<0.7,>=0.6->netket) (13.4.2)\n",
            "Requirement already satisfied: typing-extensions>=4.1.1 in /usr/local/lib/python3.10/dist-packages (from flax<0.7,>=0.6->netket) (4.6.3)\n",
            "Requirement already satisfied: PyYAML>=5.4.1 in /usr/local/lib/python3.10/dist-packages (from flax<0.7,>=0.6->netket) (6.0)\n",
            "Collecting texttable>=1.6.2 (from igraph<0.11.0,>=0.9.8->netket)\n",
            "  Downloading texttable-1.6.7-py2.py3-none-any.whl (10 kB)\n",
            "Requirement already satisfied: ml-dtypes>=0.1.0 in /usr/local/lib/python3.10/dist-packages (from jax<0.5,>=0.3.16->netket) (0.2.0)\n",
            "Requirement already satisfied: opt-einsum in /usr/local/lib/python3.10/dist-packages (from jax<0.5,>=0.3.16->netket) (3.3.0)\n",
            "Requirement already satisfied: llvmlite<0.40,>=0.39.0dev0 in /usr/local/lib/python3.10/dist-packages (from numba<0.58,>=0.52->netket) (0.39.1)\n",
            "Requirement already satisfied: setuptools in /usr/local/lib/python3.10/dist-packages (from numba<0.58,>=0.52->netket) (67.7.2)\n",
            "Requirement already satisfied: cffi>=1.12 in /usr/local/lib/python3.10/dist-packages (from numba4jax<0.1,>=0.0.10->netket) (1.15.1)\n",
            "Requirement already satisfied: absl-py>=0.7.1 in /usr/local/lib/python3.10/dist-packages (from optax<0.2,>=0.1.3->netket) (1.4.0)\n",
            "Requirement already satisfied: chex>=0.1.5 in /usr/local/lib/python3.10/dist-packages (from optax<0.2,>=0.1.3->netket) (0.1.7)\n",
            "Collecting beartype (from plum-dispatch<3,>=1.5.1->netket)\n",
            "  Downloading beartype-0.14.1-py3-none-any.whl (739 kB)\n",
            "\u001b[2K     \u001b[90m━━━━━━━━━━━━━━━━━━━━━━━━━━━━━━━━━━━━━━\u001b[0m \u001b[32m739.7/739.7 kB\u001b[0m \u001b[31m28.0 MB/s\u001b[0m eta \u001b[36m0:00:00\u001b[0m\n",
            "\u001b[?25hRequirement already satisfied: pycparser in /usr/local/lib/python3.10/dist-packages (from cffi>=1.12->numba4jax<0.1,>=0.0.10->netket) (2.21)\n",
            "Requirement already satisfied: dm-tree>=0.1.5 in /usr/local/lib/python3.10/dist-packages (from chex>=0.1.5->optax<0.2,>=0.1.3->netket) (0.1.8)\n",
            "Requirement already satisfied: toolz>=0.9.0 in /usr/local/lib/python3.10/dist-packages (from chex>=0.1.5->optax<0.2,>=0.1.3->netket) (0.12.0)\n",
            "Requirement already satisfied: markdown-it-py>=2.2.0 in /usr/local/lib/python3.10/dist-packages (from rich>=11.1->flax<0.7,>=0.6->netket) (3.0.0)\n",
            "Requirement already satisfied: pygments<3.0.0,>=2.13.0 in /usr/local/lib/python3.10/dist-packages (from rich>=11.1->flax<0.7,>=0.6->netket) (2.14.0)\n",
            "Requirement already satisfied: cached_property in /usr/local/lib/python3.10/dist-packages (from orbax-checkpoint->flax<0.7,>=0.6->netket) (1.5.2)\n",
            "Requirement already satisfied: importlib_resources in /usr/local/lib/python3.10/dist-packages (from orbax-checkpoint->flax<0.7,>=0.6->netket) (5.12.0)\n",
            "Requirement already satisfied: etils in /usr/local/lib/python3.10/dist-packages (from orbax-checkpoint->flax<0.7,>=0.6->netket) (1.3.0)\n",
            "Requirement already satisfied: nest_asyncio in /usr/local/lib/python3.10/dist-packages (from orbax-checkpoint->flax<0.7,>=0.6->netket) (1.5.6)\n",
            "Requirement already satisfied: mdurl~=0.1 in /usr/local/lib/python3.10/dist-packages (from markdown-it-py>=2.2.0->rich>=11.1->flax<0.7,>=0.6->netket) (0.1.2)\n",
            "Installing collected packages: texttable, orjson, igraph, beartype, plum-dispatch, numba4jax, netket\n",
            "Successfully installed beartype-0.14.1 igraph-0.10.5 netket-3.8 numba4jax-0.0.10.post3 orjson-3.9.2 plum-dispatch-2.1.1 texttable-1.6.7\n"
          ]
        }
      ],
      "source": [
        "!pip install --upgrade netket"
      ]
    },
    {
      "cell_type": "markdown",
      "metadata": {
        "id": "a9jkt3aMgdsJ"
      },
      "source": [
        "We also want to make sure that Jax is running on the CPU. It benefits from a GPU only for large numbers of spins."
      ]
    },
    {
      "cell_type": "code",
      "execution_count": 2,
      "metadata": {
        "id": "dxNsXoFHgOX8"
      },
      "outputs": [],
      "source": [
        "import os\n",
        "os.environ[\"JAX_PLATFORM_NAME\"] = \"cpu\""
      ]
    },
    {
      "cell_type": "markdown",
      "metadata": {
        "id": "GnfP_psBgkB_"
      },
      "source": [
        "Check the install was successful and print the version."
      ]
    },
    {
      "cell_type": "code",
      "execution_count": 3,
      "metadata": {
        "colab": {
          "base_uri": "https://localhost:8080/"
        },
        "id": "Aq6MigCNgcby",
        "outputId": "3a7ac34d-0ecf-4b24-edd7-d726bda23d16"
      },
      "outputs": [
        {
          "output_type": "stream",
          "name": "stdout",
          "text": [
            "NetKet version: 3.8\n"
          ]
        }
      ],
      "source": [
        "import netket as nk\n",
        "print(f\"NetKet version: {nk.__version__}\")\n",
        "\n",
        "import functools\n",
        "from netket.operator.spin import sigmax, sigmaz\n",
        "import flax.linen as nn\n",
        "import jax.numpy as jnp"
      ]
    },
    {
      "cell_type": "markdown",
      "metadata": {
        "id": "SFbcr1FajVHb"
      },
      "source": [
        "## Defining the Hamiltonian"
      ]
    },
    {
      "cell_type": "markdown",
      "metadata": {
        "id": "A8olAjaag_Xm"
      },
      "source": [
        "Start by defining the Hamiltonian of the system. We first define the degrees of freedom we are dealing with by specifying the Hilbert space of the problem. We start with an example of $N\\times N$ spins on a lattice."
      ]
    },
    {
      "cell_type": "code",
      "execution_count": 4,
      "metadata": {
        "colab": {
          "base_uri": "https://localhost:8080/",
          "height": 502
        },
        "id": "wqexYj-lgmyq",
        "outputId": "c9276839-2634-47c1-e46c-fec0fac63411"
      },
      "outputs": [
        {
          "output_type": "stream",
          "name": "stdout",
          "text": [
            "Number of edges in graph: 36\n",
            "Number of nodes in graph: 18\n",
            "List of edges in graph: [(12, 13), (5, 10), (8, 9), (9, 14), (1, 6), (2, 5), (11, 14), (2, 17), (7, 10), (7, 16), (4, 5), (12, 15), (3, 6), (4, 17), (14, 15), (8, 11), (0, 1), (10, 11), (11, 16), (0, 13), (13, 16), (6, 7), (7, 12), (3, 8), (4, 13), (14, 17), (5, 8), (0, 3), (9, 12), (1, 4), (2, 3), (0, 15), (1, 10), (2, 15), (6, 9), (16, 17)]\n"
          ]
        },
        {
          "output_type": "display_data",
          "data": {
            "text/plain": [
              "<Figure size 640x480 with 1 Axes>"
            ],
            "image/png": "[encoded data removed]"
          },
          "metadata": {}
        }
      ],
      "source": [
        "# size of lattice\n",
        "nx = 3\n",
        "ny = 3\n",
        "\n",
        "graph = nk.graph.Lattice(basis_vectors=[[0,1],[1,0]],\n",
        "                         site_offsets = [[1/2,0],[0,1/2]],\n",
        "                         extent = [nx,ny],\n",
        "                         pbc=True\n",
        "                        )\n",
        "\n",
        "# graph = nk.graph.Hypercube(length=L, n_dim=2, pbc=True)\n",
        "\n",
        "print(\"Number of edges in graph:\",graph.n_edges)\n",
        "print(\"Number of nodes in graph:\",graph.n_nodes)\n",
        "\n",
        "print(\"List of edges in graph:\",graph.edges())\n",
        "\n",
        "graph.draw()\n",
        "\n",
        "# number of nodes in graph\n",
        "N = graph.n_nodes\n",
        "\n",
        "hi = nk.hilbert.Spin(s=1/2)**(N)"
      ]
    },
    {
      "cell_type": "code",
      "source": [
        "# generate a list of the positions of the links that form each 1-plaquette\n",
        "# written for 2d at the moment, but simple to extend to higher dimensions\n",
        "plaqs_pos_links = [[[0.5+i,0.+j],[(1.+i) % nx,0.5+j],[0.5+i,(1.+j) % ny],[0.+i,0.5+j]] for j in range (0,ny) for i in range(0,nx)]\n",
        "\n",
        "# get list of ids for links in each 1-plaquette\n",
        "plaqs_id_links = [tuple(graph.id_from_position(pos)) for pos in plaqs_pos_links]\n",
        "\n",
        "# generate a list of the positions of the links associated to each site\n",
        "# written for 2d at the moment, but simple to extend to higher dimensions\n",
        "site_pos_links = [[[0.5+i,0.+j],[i,(0.5+j) % ny],[(-0.5+i) % nx,0.+j],[i,(-0.5+j) % ny]] for j in range (0,ny) for i in range(0,nx)]\n",
        "# get list of ids for links associated to each site\n",
        "site_id_links = [tuple(graph.id_from_position(pos)) for pos in site_pos_links]\n",
        "\n",
        "print(plaqs_id_links)\n",
        "print(site_id_links)"
      ],
      "metadata": {
        "colab": {
          "base_uri": "https://localhost:8080/"
        },
        "id": "_I_ao-95gLR2",
        "outputId": "72edb0ff-e87b-4560-e91a-ed80ec2002ff"
      },
      "execution_count": 5,
      "outputs": [
        {
          "output_type": "stream",
          "name": "stdout",
          "text": [
            "[(0, 3, 6, 1), (2, 5, 8, 3), (4, 1, 10, 5), (6, 9, 12, 7), (8, 11, 14, 9), (10, 7, 16, 11), (12, 15, 0, 13), (14, 17, 2, 15), (16, 13, 4, 17)]\n",
            "[(0, 1, 4, 13), (2, 3, 0, 15), (4, 5, 2, 17), (6, 7, 10, 1), (8, 9, 6, 3), (10, 11, 8, 5), (12, 13, 16, 7), (14, 15, 12, 9), (16, 17, 14, 11)]\n"
          ]
        }
      ]
    },
    {
      "cell_type": "markdown",
      "metadata": {
        "id": "ZHM9G3ZnhS4Z"
      },
      "source": [
        "Now important Jax and generate two random states."
      ]
    },
    {
      "cell_type": "code",
      "execution_count": 6,
      "metadata": {
        "colab": {
          "base_uri": "https://localhost:8080/"
        },
        "id": "DuH0UwpBhRch",
        "outputId": "668296ce-ee38-4af1-e478-e84215299ced"
      },
      "outputs": [
        {
          "output_type": "execute_result",
          "data": {
            "text/plain": [
              "Array([[-1., -1.,  1., -1.,  1., -1.,  1., -1.,  1.,  1.,  1.,  1., -1.,\n",
              "         1., -1., -1.,  1., -1.]], dtype=float32)"
            ]
          },
          "metadata": {},
          "execution_count": 6
        }
      ],
      "source": [
        "import jax\n",
        "\n",
        "hi.random_state(key=jax.random.PRNGKey(0), size=1)"
      ]
    },
    {
      "cell_type": "markdown",
      "metadata": {
        "id": "TY4Rfm4bh45b"
      },
      "source": [
        "Next we specify the Hamiltonian. We use NetKet's LocalOperator function, which is the sum of arbitrary \"$k$-local\" operators. In our case, $\\sigma_i^{(x)}$ is a 1-local operator, and $\\sigma_i^{(z)}\\sigma_{j}^{(z)}$ is a 2-local operator. Start by importing the Pauli matrices."
      ]
    },
    {
      "cell_type": "code",
      "execution_count": 7,
      "metadata": {
        "id": "wv7ugw3khzvZ"
      },
      "outputs": [],
      "source": [
        "from netket.operator.spin import sigmax, sigmaz"
      ]
    },
    {
      "cell_type": "markdown",
      "metadata": {
        "id": "H7Sip-EiiVm3"
      },
      "source": [
        "Now set $J=1$ in the Hamiltonian and define the plaquette piece. NetKet automatically sees products of local operators as tensor products."
      ]
    },
    {
      "cell_type": "code",
      "execution_count": 8,
      "metadata": {
        "id": "G3dbbNFiiVER"
      },
      "outputs": [],
      "source": [
        "J = 1.\n",
        "\n",
        "# H = sum([-J*sigmax(hilbert=hi, site=i) for i in range(N)])\n",
        "H = sum([-J*sigmaz(hilbert=hi, site=i)*sigmaz(hilbert=hi, site=j)*\n",
        "         sigmaz(hilbert=hi, site=k)*sigmaz(hilbert=hi, site=l) for (i,j,k,l) in plaqs_id_links])"
      ]
    },
    {
      "cell_type": "markdown",
      "metadata": {
        "id": "ehnz91y4dEBn"
      },
      "source": [
        "Now add the local piece."
      ]
    },
    {
      "cell_type": "code",
      "execution_count": 9,
      "metadata": {
        "id": "jnh99PbVinnO"
      },
      "outputs": [],
      "source": [
        "h = .2\n",
        "# H = H + sum([-h*sigmax(hilbert=hi, site=i)*sigmaz(hilbert=hi, site=j) for (i,j) in graph.edges()])\n",
        "H = H + sum([-h*sigmax(hilbert=hi, site=i) for i in range(N)])"
      ]
    },
    {
      "cell_type": "markdown",
      "source": [
        "Make a copy of the hamiltonian and add a penalty term to impose gauge invariance."
      ],
      "metadata": {
        "id": "fOBy0BEumjzo"
      }
    },
    {
      "cell_type": "code",
      "source": [
        "from scipy import sparse as _sparse\n",
        "\n",
        "from netket.utils.types import DType as _DType\n",
        "\n",
        "from netket.hilbert import AbstractHilbert as _AbstractHilbert\n",
        "\n",
        "from netket.operator._local_operator import LocalOperator as _LocalOperator\n",
        "\n",
        "\n",
        "def id_mat(\n",
        "    hilbert: _AbstractHilbert, site: int, dtype: _DType = float\n",
        ") -> _LocalOperator:\n",
        "    \"\"\"\n",
        "    Builds the identity matrix operator acting on the `site`-th of the Hilbert\n",
        "    space `hilbert`.\n",
        "\n",
        "    If `hilbert` is a non-Spin space of local dimension M, it is considered\n",
        "    as a (M-1)/2 - spin space.\n",
        "\n",
        "    :param hilbert: The hilbert space\n",
        "    :param site: the site on which this operator acts\n",
        "    :return: a nk.operator.LocalOperator\n",
        "    \"\"\"\n",
        "    import numpy as np\n",
        "\n",
        "    N = hilbert.size_at_index(site)\n",
        "    S = (N - 1) / 2\n",
        "\n",
        "    D = [1 for a in np.arange(1, N+1)]\n",
        "    mat = np.diag(D)\n",
        "    mat = _sparse.coo_matrix(mat)\n",
        "    return _LocalOperator(hilbert, mat, [site], dtype=dtype)"
      ],
      "metadata": {
        "id": "7-jL6aWWuPJf"
      },
      "execution_count": 10,
      "outputs": []
    },
    {
      "cell_type": "code",
      "source": [
        "H_penalty = H.copy()\n",
        "\n",
        "penalty = -10.\n",
        "\n",
        "# H_penalty = H_penalty + sum([penalty*(sigmax(hilbert=hi, site=i)*sigmax(hilbert=hi, site=j)*\n",
        "#           sigmax(hilbert=hi, site=k)*sigmax(hilbert=hi, site=l)-id_mat(hilbert=hi, site=i)*id_mat(hilbert=hi, site=j)*\n",
        "#           id_mat(hilbert=hi, site=k)*id_mat(hilbert=hi, site=l))*(sigmax(hilbert=hi, site=i)*sigmax(hilbert=hi, site=j)*\n",
        "#           sigmax(hilbert=hi, site=k)*sigmax(hilbert=hi, site=l)-id_mat(hilbert=hi, site=i)*id_mat(hilbert=hi, site=j)*\n",
        "#           id_mat(hilbert=hi, site=k)*id_mat(hilbert=hi, site=l)) for (i,j,k,l) in site_id_links])\n",
        "\n",
        "H_penalty = H_penalty + sum([penalty*(sigmax(hilbert=hi, site=i)*sigmax(hilbert=hi, site=j)*\n",
        "           sigmax(hilbert=hi, site=k)*sigmax(hilbert=hi, site=l)) for (i,j,k,l) in site_id_links])"
      ],
      "metadata": {
        "id": "hKG_f880mo0h"
      },
      "execution_count": 11,
      "outputs": []
    },
    {
      "cell_type": "markdown",
      "metadata": {
        "id": "JLlR2vbijZBs"
      },
      "source": [
        "## Exact diagonalisation"
      ]
    },
    {
      "cell_type": "markdown",
      "metadata": {
        "id": "9Mnye9_Gj_Q1"
      },
      "source": [
        "We can start by trying exact diagonalisation. This works by converting the Hamiltonian operator in a sparse matrix of size $2^{N^2} \\times 2^{N^2} = 1024 \\times 1024$. This is just a standard scipy sparse matrix, so we can use any (sparse) matrix diagonalisation routine to find the eigensystem. For example, we can find the two lowest eigenstates via:"
      ]
    },
    {
      "cell_type": "code",
      "execution_count": 12,
      "metadata": {
        "colab": {
          "base_uri": "https://localhost:8080/"
        },
        "id": "ES1aXWvIj8QV",
        "outputId": "9d8ea78c-2ba5-4203-a2e5-4d94d843b6aa"
      },
      "outputs": [
        {
          "output_type": "stream",
          "name": "stdout",
          "text": [
            "Eigenvalues with sparse solver: [-9.21049564 -9.20198765 -9.20198765 -9.20198765 -9.19930773]\n",
            "Eigenvalues with gauge penalty with sparse solver: [-99.21049564 -99.18657742 -99.18657742 -99.16605078 -96.67067606]\n",
            "Approx energy per site: [-1.0233884042479058, -1.0207308239492459, -1.0207308239492237, -1.0184500867406427, -0.7411862288907779]\n"
          ]
        }
      ],
      "source": [
        "eig_vals, eig_vecs = nk.exact.lanczos_ed(H, k=5, compute_eigenvectors=True)\n",
        "\n",
        "print(\"Eigenvalues with sparse solver:\", eig_vals)\n",
        "\n",
        "E_gs = eig_vals[0]\n",
        "\n",
        "eig_vals_penalty, eig_vecs_penalty = nk.exact.lanczos_ed(H_penalty, k=5, compute_eigenvectors=True)\n",
        "\n",
        "print(\"Eigenvalues with gauge penalty with sparse solver:\", eig_vals_penalty)\n",
        "\n",
        "print(\"Approx energy per site:\", [(E - penalty * nx * ny)/(nx * ny) for E in  eig_vals_penalty])\n",
        "\n",
        "E_gs_penalty = eig_vals_penalty[0]"
      ]
    },
    {
      "cell_type": "code",
      "source": [
        "print(\"Approx energy per site:\", [(E - penalty * nx * ny)/(nx * ny) for E in  eig_vals_penalty])"
      ],
      "metadata": {
        "colab": {
          "base_uri": "https://localhost:8080/"
        },
        "id": "8Zos1OndigPM",
        "outputId": "4aff7587-d58b-40ce-babe-3df8643a8813"
      },
      "execution_count": 13,
      "outputs": [
        {
          "output_type": "stream",
          "name": "stdout",
          "text": [
            "Approx energy per site: [-1.0233884042479058, -1.0207308239492459, -1.0207308239492237, -1.0184500867406427, -0.7411862288907779]\n"
          ]
        }
      ]
    },
    {
      "cell_type": "code",
      "source": [
        "print(eig_vecs[:,0].flatten()@(H@eig_vecs[:,0].flatten()))\n",
        "\n",
        "print(eig_vecs_penalty[:,0].flatten()@(H@eig_vecs_penalty[:,0].flatten()))"
      ],
      "metadata": {
        "colab": {
          "base_uri": "https://localhost:8080/"
        },
        "id": "q2uqwzXwHHlH",
        "outputId": "d28fe11d-f175-4b3a-9791-aab31a1b4b8c"
      },
      "execution_count": null,
      "outputs": [
        {
          "output_type": "stream",
          "name": "stdout",
          "text": [
            "-9.55577054356128\n",
            "-9.555770543561277\n"
          ]
        }
      ]
    },
    {
      "cell_type": "markdown",
      "metadata": {
        "id": "Ql5eFRXplKjE"
      },
      "source": [
        "## Neural network quantum state"
      ]
    },
    {
      "cell_type": "code",
      "execution_count": 14,
      "metadata": {
        "id": "rBUvfGbxka0U"
      },
      "outputs": [],
      "source": [
        "# numerical operations in the model should always use jax.numpy\n",
        "# instead of numpy because jax supports computing derivatives.\n",
        "# If you want to better understand the difference between the two, check\n",
        "# https://flax.readthedocs.io/en/latest/notebooks/jax_for_the_impatient.html\n",
        "import jax.numpy as jnp\n",
        "\n",
        "# Flax is a framework to define models using jax\n",
        "import flax\n",
        "\n",
        "# we refer to `flax.linen` as `nn`. It's a repository of\n",
        "# layers, initializers and nonlinear functions.\n",
        "import flax.linen as nn"
      ]
    },
    {
      "cell_type": "code",
      "execution_count": null,
      "metadata": {
        "colab": {
          "base_uri": "https://localhost:8080/"
        },
        "id": "mURDGyk0mXPq",
        "outputId": "c093c80d-4ca9-49d4-fe36-952283d04661"
      },
      "outputs": [
        {
          "name": "stderr",
          "output_type": "stream",
          "text": [
            "/usr/local/lib/python3.10/dist-packages/netket/vqs/mc/mc_state/state.py:58: UserWarning: n_samples=1000 (1000 per MPI rank) does not divide n_chains=16, increased to 1008 (1008 per MPI rank)\n",
            "  warnings.warn(\n"
          ]
        },
        {
          "data": {
            "text/plain": [
              "12480"
            ]
          },
          "execution_count": 38,
          "metadata": {},
          "output_type": "execute_result"
        }
      ],
      "source": [
        "# A Flax model must be a class subclassing `nn.Module`\n",
        "# The most compact way to define the model is this.\n",
        "# The __call__(self, x) function should take as\n",
        "# input a batch of states x.shape = (n_samples, L)\n",
        "# and should return a vector of n_samples log-amplitudes\n",
        "class FFN(nn.Module):\n",
        "\n",
        "    # You can define attributes at the module-level\n",
        "    # with a default. This allows you to easily change\n",
        "    # some hyper-parameter without redefining the whole\n",
        "    # flax module.\n",
        "    alpha : int = 1\n",
        "\n",
        "    @nn.compact\n",
        "    def __call__(self, x):\n",
        "\n",
        "        # here we construct the first dense layer using a\n",
        "        # pre-built implementation in flax.\n",
        "        # features is the number of output nodes\n",
        "        # bug in complex layers in flax has been fixed\n",
        "        dense = nn.Dense(features=self.alpha * x.shape[-1], kernel_init=nn.initializers.normal(stddev=0.01))\n",
        "\n",
        "        # we apply the dense layer to the input\n",
        "        y = dense(x)\n",
        "\n",
        "        # the non-linearity is a simple ReLu\n",
        "        y = nn.relu(y)\n",
        "\n",
        "        # sum the output\n",
        "        return jnp.sum(y, axis=-1)\n",
        "\n",
        "# Create an instance of the model.\n",
        "model = FFN(alpha=3)\n",
        "\n",
        "# Create the local sampler on the hilbert space\n",
        "sampler = nk.sampler.MetropolisLocal(hi)\n",
        "\n",
        "# Construct the variational state using the model and the sampler above.\n",
        "# n_samples specifies how many samples should be used to compute expectation\n",
        "# values.\n",
        "vstate = nk.vqs.MCState(sampler, model, n_samples=1000)\n",
        "\n",
        "vstate.n_parameters"
      ]
    },
    {
      "cell_type": "code",
      "execution_count": null,
      "metadata": {
        "colab": {
          "background_save": true,
          "base_uri": "https://localhost:8080/"
        },
        "id": "GQ1HgVmnm387",
        "outputId": "1f98054f-6360-46c2-aa71-6bac4c2b77de"
      },
      "outputs": [
        {
          "name": "stderr",
          "output_type": "stream",
          "text": [
            "100%|██████████| 600/600 [12:14<00:00,  1.22s/it, Energy=-71.9440 ± 0.0067 [σ²=0.0458, R̂=1.0045]]\n"
          ]
        },
        {
          "name": "stdout",
          "output_type": "stream",
          "text": [
            "Optimised energy and relative error: -71.9458 ± 0.0065 [σ²=0.0421, R̂=1.0060] 6.0269258045187195\n"
          ]
        }
      ],
      "source": [
        "# Then we create an optimiser from the standard library.\n",
        "# You can also use optax.\n",
        "optimizer = nk.optimizer.Sgd(learning_rate=0.1)\n",
        "\n",
        "# build the optimisation driver\n",
        "# Notice the use of Stochastic Reconfiguration which considerably improves the optimisation\n",
        "gs = nk.driver.VMC(H, optimizer, variational_state=vstate, preconditioner=nk.optimizer.SR(diag_shift=0.1))\n",
        "\n",
        "log = nk.logging.RuntimeLog()\n",
        "\n",
        "gs.run(n_iter=600, out=log)\n",
        "\n",
        "ffn_energy = vstate.expect(H)\n",
        "\n",
        "error = abs((ffn_energy.mean - E_gs)/E_gs)\n",
        "\n",
        "print(\"Optimised energy and relative error:\", ffn_energy,error)"
      ]
    },
    {
      "cell_type": "code",
      "execution_count": null,
      "metadata": {
        "colab": {
          "background_save": true
        },
        "id": "Yn2EvyZxns0J",
        "outputId": "63c61dab-2305-40c7-a46f-edaa3254a76f"
      },
      "outputs": [
        {
          "data": {
            "text/plain": [
              "Text(0, 0.5, 'Energy')"
            ]
          },
          "execution_count": 40,
          "metadata": {},
          "output_type": "execute_result"
        },
        {
          "data": {
            "image/png": "[encoded data removed]",
            "text/plain": [
              "<Figure size 640x480 with 1 Axes>"
            ]
          },
          "metadata": {},
          "output_type": "display_data"
        }
      ],
      "source": [
        "data_FFN = log.data\n",
        "\n",
        "from matplotlib import pyplot as plt\n",
        "\n",
        "plt.errorbar(data_FFN[\"Energy\"].iters, data_FFN[\"Energy\"].Mean, yerr=data_FFN[\"Energy\"].Sigma, label=\"FFN\")\n",
        "plt.hlines([E_gs], xmin=0, xmax=300, color='black', label=\"Exact\")\n",
        "plt.legend()\n",
        "\n",
        "plt.xlabel('Iterations')\n",
        "plt.ylabel('Energy')"
      ]
    },
    {
      "cell_type": "markdown",
      "metadata": {
        "id": "Wbz-U_pCpuqd"
      },
      "source": [
        "## Translation symmetry"
      ]
    },
    {
      "cell_type": "markdown",
      "metadata": {
        "id": "Q-7GOWYFpyJg"
      },
      "source": [
        "In order to enforce spatial symmetries we can use some built-in functionalities of NetKet, in conjunction with equivariant layers.\n",
        "\n",
        "The first step is to construct explicitly a graph that contains the edges of our interactions, in this case this is a simple chain with periodic boundaries. NetKet has builtin several symmetry groups that can be used to target specific spatial symmetries. In this case for example after constructing the graph we can also print its translation group."
      ]
    },
    {
      "cell_type": "code",
      "execution_count": null,
      "metadata": {
        "colab": {
          "background_save": true
        },
        "id": "0onz405fn-Vw",
        "outputId": "a383c1bb-6c2f-488a-f248-b5c581081d38"
      },
      "outputs": [
        {
          "name": "stdout",
          "output_type": "stream",
          "text": [
            "PermutationGroup(elems=[Id(), Translation([0, 1]), Translation([0, 2]), Translation([0, 3]), Translation([0, 4]), Translation([0, 5]), Translation([0, 6]), Translation([0, 7]), Translation([1, 0]), Translation([1, 1]), Translation([1, 2]), Translation([1, 3]), Translation([1, 4]), Translation([1, 5]), Translation([1, 6]), Translation([1, 7]), Translation([2, 0]), Translation([2, 1]), Translation([2, 2]), Translation([2, 3]), Translation([2, 4]), Translation([2, 5]), Translation([2, 6]), Translation([2, 7]), Translation([3, 0]), Translation([3, 1]), Translation([3, 2]), Translation([3, 3]), Translation([3, 4]), Translation([3, 5]), Translation([3, 6]), Translation([3, 7]), Translation([4, 0]), Translation([4, 1]), Translation([4, 2]), Translation([4, 3]), Translation([4, 4]), Translation([4, 5]), Translation([4, 6]), Translation([4, 7]), Translation([5, 0]), Translation([5, 1]), Translation([5, 2]), Translation([5, 3]), Translation([5, 4]), Translation([5, 5]), Translation([5, 6]), Translation([5, 7]), Translation([6, 0]), Translation([6, 1]), Translation([6, 2]), Translation([6, 3]), Translation([6, 4]), Translation([6, 5]), Translation([6, 6]), Translation([6, 7]), Translation([7, 0]), Translation([7, 1]), Translation([7, 2]), Translation([7, 3]), Translation([7, 4]), Translation([7, 5]), Translation([7, 6]), Translation([7, 7])], degree=64)\n"
          ]
        }
      ],
      "source": [
        "print(graph.translation_group())"
      ]
    },
    {
      "cell_type": "markdown",
      "metadata": {
        "id": "vKAh7W52qLUU"
      },
      "source": [
        "Graphs are in general quite handy when defining hamiltonian terms on their edges. For example we can define our Hamiltonian as\n",
        "```\n",
        "Gamma=-1\n",
        "H = sum([Gamma*sigmax(hi,i) for i in range(N)])\n",
        "\n",
        "V=-1\n",
        "H += sum([V*sigmaz(hi,i)*sigmaz(hi,j) for (i,j) in graph.edges()])\n",
        "```\n",
        "\n"
      ]
    },
    {
      "cell_type": "markdown",
      "metadata": {
        "id": "clqtHuURqUE1"
      },
      "source": [
        "We now write a model with an invariant transformation given by the translation group. Notice that we now use NetKet's own nn module, instead of Flax, since it contains several additions."
      ]
    },
    {
      "cell_type": "code",
      "execution_count": null,
      "metadata": {
        "colab": {
          "background_save": true
        },
        "id": "Ad8aSLG3p1ps",
        "outputId": "48366caf-ca7f-4f59-bb3a-722997de36a6"
      },
      "outputs": [
        {
          "data": {
            "text/plain": [
              "195"
            ]
          },
          "execution_count": 42,
          "metadata": {},
          "output_type": "execute_result"
        }
      ],
      "source": [
        "class SymmModel(nn.Module):\n",
        "    alpha: int = 1\n",
        "\n",
        "    @nn.compact\n",
        "    def __call__(self, x):\n",
        "\n",
        "        x = x.reshape(-1, 1, x.shape[-1])\n",
        "\n",
        "        x = nk.nn.DenseSymm(symmetries=graph.translation_group(),\n",
        "                           features=self.alpha,\n",
        "                           kernel_init=nn.initializers.normal(stddev=0.01))(x)\n",
        "        x = nn.relu(x)\n",
        "\n",
        "        # sum the output\n",
        "        return jnp.sum(x,axis=(-1,-2))\n",
        "\n",
        "\n",
        "sampler = nk.sampler.MetropolisLocal(hi)\n",
        "\n",
        "# Let us define a model with 3 features per symmetry\n",
        "model=SymmModel(alpha=3)\n",
        "\n",
        "vstate = nk.vqs.MCState(sampler, model, n_samples=1000)\n",
        "\n",
        "vstate.n_parameters"
      ]
    },
    {
      "cell_type": "markdown",
      "metadata": {
        "id": "HanKAHjkrGka"
      },
      "source": [
        "As it can be seen, the number of parameters of this model is greatly reduced, because of the symmetries that impose constraints on the weights of the dense layers. We can now optimize the model, using a few more optimization steps than before."
      ]
    },
    {
      "cell_type": "code",
      "execution_count": null,
      "metadata": {
        "colab": {
          "background_save": true
        },
        "id": "KkD1a0FEp9Z1",
        "outputId": "82216f5c-f8be-4e5e-e223-b8db41331a7e"
      },
      "outputs": [
        {
          "name": "stderr",
          "output_type": "stream",
          "text": [
            "100%|██████████| 600/600 [10:16<00:00,  1.03s/it, Energy=-53.21 ± 0.33 [σ²=108.90, R̂=1.0064]]\n"
          ]
        },
        {
          "name": "stdout",
          "output_type": "stream",
          "text": [
            "Optimized energy and relative error:  -51.78 ± 0.37 [σ²=139.23, R̂=1.0168] 4.0568590137078475\n"
          ]
        }
      ],
      "source": [
        "optimizer = nk.optimizer.Sgd(learning_rate=0.1)\n",
        "\n",
        "gs = nk.driver.VMC(H, optimizer, variational_state=vstate,preconditioner=nk.optimizer.SR(diag_shift=0.1))\n",
        "\n",
        "log=nk.logging.RuntimeLog()\n",
        "gs.run(n_iter=600,out=log)\n",
        "\n",
        "symm_energy=vstate.expect(H)\n",
        "error=abs((symm_energy.mean-eig_vals[0])/eig_vals[0])\n",
        "print(\"Optimized energy and relative error: \",symm_energy,error)"
      ]
    },
    {
      "cell_type": "code",
      "execution_count": null,
      "metadata": {
        "colab": {
          "background_save": true
        },
        "id": "8BWs6opGrIbr",
        "outputId": "4961a08d-6a21-4718-a456-1e3463726a92"
      },
      "outputs": [
        {
          "data": {
            "text/plain": [
              "<matplotlib.legend.Legend at 0x7f1c6c3bb6d0>"
            ]
          },
          "execution_count": 44,
          "metadata": {},
          "output_type": "execute_result"
        },
        {
          "data": {
            "image/png": "[encoded data removed]",
            "text/plain": [
              "<Figure size 640x480 with 1 Axes>"
            ]
          },
          "metadata": {},
          "output_type": "display_data"
        }
      ],
      "source": [
        "plt.errorbar(data_FFN[\"Energy\"].iters[100:],data_FFN[\"Energy\"].Mean[100:],yerr=data_FFN[\"Energy\"].Sigma[100:],label=\"DenseModel\")\n",
        "plt.errorbar(log.data[\"Energy\"].iters[100:],log.data[\"Energy\"].Mean[100:],yerr=log.data[\"Energy\"].Sigma[100:],label=\"SymmModel\")\n",
        "\n",
        "#plt.axhline(y=eig_vals[0], xmin=0, xmax=log.data[\"Energy\"].iters[-1], linewidth=2, color=\"k\", label=\"Exact\")\n",
        "plt.xlabel('Iterations')\n",
        "plt.ylabel('Energy')\n",
        "plt.legend(frameon=False)"
      ]
    },
    {
      "cell_type": "markdown",
      "metadata": {
        "id": "Vj2XEY__r5L-"
      },
      "source": [
        "## Other properties"
      ]
    },
    {
      "cell_type": "markdown",
      "metadata": {
        "id": "_yZnNHQqr6pp"
      },
      "source": [
        "Once the model has been optimized, we can of course measure also other observables that are not the energy. For example, we could decide to measure the value of the nearest-neighbor $\\sigma^{(x)}-\\sigma^{(x)}$ correlator. Notice that since correlators do not enjoy the zero-variance principle as the Hamiltonian instead does, it is important to use a larger number of samples to have a sufficiently low error bar on their measurement."
      ]
    },
    {
      "cell_type": "code",
      "execution_count": null,
      "metadata": {
        "colab": {
          "base_uri": "https://localhost:8080/"
        },
        "id": "8GWopIBlrPkD",
        "outputId": "25e43e60-d756-4c67-fc04-47efeb491705"
      },
      "outputs": [
        {
          "data": {
            "text/plain": [
              "10.871 ± 0.018 [σ²=31.497, R̂=1.0002]"
            ]
          },
          "execution_count": 38,
          "metadata": {},
          "output_type": "execute_result"
        }
      ],
      "source": [
        "corr = sum([sigmax(hi,i)*sigmax(hi,j) for (i,j) in graph.edges()])\n",
        "\n",
        "vstate.n_samples=400000\n",
        "\n",
        "vstate.expect(corr)"
      ]
    },
    {
      "cell_type": "markdown",
      "metadata": {
        "id": "9eiMYiZOsHqZ"
      },
      "source": [
        "And we can further compare this to the exact diagonalisation result."
      ]
    },
    {
      "cell_type": "code",
      "execution_count": null,
      "metadata": {
        "colab": {
          "base_uri": "https://localhost:8080/"
        },
        "id": "qz83gr4CsKqJ",
        "outputId": "2a552d76-6be0-4023-edaa-78d55f74707e"
      },
      "outputs": [
        {
          "name": "stdout",
          "output_type": "stream",
          "text": [
            "10.852248713127803\n"
          ]
        }
      ],
      "source": [
        "psi = eig_vecs[:, 0]\n",
        "exact_corr=psi@(corr.to_sparse()@psi)\n",
        "print(exact_corr)"
      ]
    },
    {
      "cell_type": "code",
      "execution_count": null,
      "metadata": {
        "id": "p5HdhmEMsLHp"
      },
      "outputs": [],
      "source": []
    },
    {
      "cell_type": "markdown",
      "source": [
        "# New layers"
      ],
      "metadata": {
        "id": "oivUgF-oVidt"
      }
    },
    {
      "cell_type": "code",
      "source": [
        "from typing import Any, Callable, Sequence\n",
        "from jax import lax, random\n",
        "from flax.core import freeze, unfreeze"
      ],
      "metadata": {
        "id": "Oie6ENsaVko6"
      },
      "execution_count": 16,
      "outputs": []
    },
    {
      "cell_type": "markdown",
      "source": [
        "Simple dense layer"
      ],
      "metadata": {
        "id": "lz03ZpUuWObw"
      }
    },
    {
      "cell_type": "code",
      "source": [
        "# We create one dense layer instance (taking 'features' parameter as input)\n",
        "model = nn.Dense(features=5)\n",
        "\n",
        "key1, key2 = random.split(random.PRNGKey(0))\n",
        "x = random.normal(key1, (10,)) # Dummy input data\n",
        "params = model.init(key2, x) # Initialization call\n",
        "jax.tree_util.tree_map(lambda x: x.shape, params) # Checking output shapes\n",
        "\n",
        "model.apply(params, x)"
      ],
      "metadata": {
        "colab": {
          "base_uri": "https://localhost:8080/"
        },
        "id": "XE-P-GPXVtKh",
        "outputId": "67bce4c4-e92b-4d1a-ae7e-bef5fa97fa1d"
      },
      "execution_count": 17,
      "outputs": [
        {
          "output_type": "execute_result",
          "data": {
            "text/plain": [
              "Array([ 3.24844799, -0.45773605,  0.49760698,  1.55063746,  0.17153964],      dtype=float64)"
            ]
          },
          "metadata": {},
          "execution_count": 17
        }
      ]
    },
    {
      "cell_type": "markdown",
      "source": [
        "Example of a module built using setup"
      ],
      "metadata": {
        "id": "wS2Ik6G0WJ6Z"
      }
    },
    {
      "cell_type": "code",
      "source": [
        "class ExplicitMLP(nn.Module):\n",
        "  features: Sequence[int]\n",
        "\n",
        "  def setup(self):\n",
        "    # we automatically know what to do with lists, dicts of submodules\n",
        "    self.layers = [nn.Dense(feat) for feat in self.features]\n",
        "    # for single submodules, we would just write:\n",
        "    # self.layer1 = nn.Dense(feat1)\n",
        "\n",
        "  def __call__(self, inputs):\n",
        "    x = inputs\n",
        "    for i, lyr in enumerate(self.layers):\n",
        "      x = lyr(x)\n",
        "      if i != len(self.layers) - 1:\n",
        "        x = nn.relu(x)\n",
        "    return x\n",
        "\n",
        "key1, key2 = random.split(random.PRNGKey(3), 2)\n",
        "x = random.uniform(key1, (4,4))\n",
        "\n",
        "model = ExplicitMLP(features=[3,4,5])\n",
        "params = model.init(key2, x)\n",
        "y = model.apply(params, x)\n",
        "\n",
        "print('initialized parameter shapes:\\n', jax.tree_util.tree_map(jnp.shape, unfreeze(params)))\n",
        "print('output:\\n', y)"
      ],
      "metadata": {
        "colab": {
          "base_uri": "https://localhost:8080/"
        },
        "id": "Px6kKiPFVwQX",
        "outputId": "caeb3fb2-5cb3-4a5c-a8d0-db7ee4e8c467"
      },
      "execution_count": 19,
      "outputs": [
        {
          "output_type": "stream",
          "name": "stdout",
          "text": [
            "initialized parameter shapes:\n",
            " {'params': {'layers_0': {'bias': (3,), 'kernel': (4, 3)}, 'layers_1': {'bias': (4,), 'kernel': (3, 4)}, 'layers_2': {'bias': (5,), 'kernel': (4, 5)}}}\n",
            "output:\n",
            " [[-0.05828711  0.01930553 -0.01908771 -0.04724774 -0.0436595 ]\n",
            " [-0.56517608  0.18719451 -0.18508238 -0.45813379 -0.42334069]\n",
            " [-0.58939111  0.19521488 -0.19301226 -0.47776258 -0.44147877]\n",
            " [-0.89026194  0.29486766 -0.29154065 -0.72164957 -0.66684369]]\n"
          ]
        }
      ]
    },
    {
      "cell_type": "code",
      "source": [],
      "metadata": {
        "id": "EYiGvZWZWDXU"
      },
      "execution_count": null,
      "outputs": []
    }
  ],
  "metadata": {
    "colab": {
      "provenance": [],
      "authorship_tag": "ABX9TyMiT9/13RjDef8HvGkTMT5T",
      "include_colab_link": true
    },
    "kernelspec": {
      "display_name": "Python 3",
      "name": "python3"
    },
    "language_info": {
      "name": "python"
    }
  },
  "nbformat": 4,
  "nbformat_minor": 0
}