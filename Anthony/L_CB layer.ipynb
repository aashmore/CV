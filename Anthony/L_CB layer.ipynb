{
  "nbformat": 4,
  "nbformat_minor": 0,
  "metadata": {
    "colab": {
      "provenance": [],
      "gpuType": "T4",
      "authorship_tag": "ABX9TyOlJjZLJyh1z0sGQTx9f6W5",
      "include_colab_link": true
    },
    "kernelspec": {
      "name": "python3",
      "display_name": "Python 3"
    },
    "language_info": {
      "name": "python"
    }
  },
  "cells": [
    {
      "cell_type": "markdown",
      "metadata": {
        "id": "view-in-github",
        "colab_type": "text"
      },
      "source": [
        "<a href=\"https://colab.research.google.com/github/aashmore/CV/blob/main/Anthony/L_CB%20layer.ipynb\" target=\"_parent\"><img src=\"https://colab.research.google.com/assets/colab-badge.svg\" alt=\"Open In Colab\"/></a>"
      ]
    },
    {
      "cell_type": "markdown",
      "source": [
        "See https://github.com/PhilipVinc/Lectures/tree/main and https://github.com/netket/netket/tree/master/Examples for more examples."
      ],
      "metadata": {
        "id": "j1n0fZOOs5vK"
      }
    },
    {
      "cell_type": "markdown",
      "source": [
        "# Ground State Variational Searches with NetKet"
      ],
      "metadata": {
        "id": "5V05EARIf2jd"
      }
    },
    {
      "cell_type": "markdown",
      "source": [
        "We start by studying the Ising model in 2d:\n",
        "$$H=\\Gamma \\sum_i \\sigma_i^{(x)} + V \\sum_{i,j} \\sigma_i^{(z)}\\sigma_{j}^{(z)}.$$\n",
        "We assume periodic boundary conditions and count lattice sites start from zero such that $i,j=0,1,\\ldots,L-1$ and $i=L\\equiv0$."
      ],
      "metadata": {
        "id": "araXk5dUfP56"
      }
    },
    {
      "cell_type": "markdown",
      "source": [
        "## Installing NetKet"
      ],
      "metadata": {
        "id": "1VDU28mxgDLW"
      }
    },
    {
      "cell_type": "markdown",
      "source": [
        "On Google Colab, use the following command to install the required packages."
      ],
      "metadata": {
        "id": "BESNee4egHXd"
      }
    },
    {
      "cell_type": "code",
      "source": [
        "!pip install --upgrade matplotlib\n"
      ],
      "metadata": {
        "id": "zN-iIXRbx229",
        "colab": {
          "base_uri": "https://localhost:8080/"
        },
        "outputId": "e0a9c8f9-eee2-4081-830e-9d384b24c153"
      },
      "execution_count": null,
      "outputs": [
        {
          "output_type": "stream",
          "name": "stdout",
          "text": [
            "Looking in indexes: https://pypi.org/simple, https://us-python.pkg.dev/colab-wheels/public/simple/\n",
            "Requirement already satisfied: matplotlib in /usr/local/lib/python3.10/dist-packages (3.7.1)\n",
            "Requirement already satisfied: contourpy>=1.0.1 in /usr/local/lib/python3.10/dist-packages (from matplotlib) (1.1.0)\n",
            "Requirement already satisfied: cycler>=0.10 in /usr/local/lib/python3.10/dist-packages (from matplotlib) (0.11.0)\n",
            "Requirement already satisfied: fonttools>=4.22.0 in /usr/local/lib/python3.10/dist-packages (from matplotlib) (4.40.0)\n",
            "Requirement already satisfied: kiwisolver>=1.0.1 in /usr/local/lib/python3.10/dist-packages (from matplotlib) (1.4.4)\n",
            "Requirement already satisfied: numpy>=1.20 in /usr/local/lib/python3.10/dist-packages (from matplotlib) (1.22.4)\n",
            "Requirement already satisfied: packaging>=20.0 in /usr/local/lib/python3.10/dist-packages (from matplotlib) (23.1)\n",
            "Requirement already satisfied: pillow>=6.2.0 in /usr/local/lib/python3.10/dist-packages (from matplotlib) (8.4.0)\n",
            "Requirement already satisfied: pyparsing>=2.3.1 in /usr/local/lib/python3.10/dist-packages (from matplotlib) (3.1.0)\n",
            "Requirement already satisfied: python-dateutil>=2.7 in /usr/local/lib/python3.10/dist-packages (from matplotlib) (2.8.2)\n",
            "Requirement already satisfied: six>=1.5 in /usr/local/lib/python3.10/dist-packages (from python-dateutil>=2.7->matplotlib) (1.16.0)\n"
          ]
        }
      ]
    },
    {
      "cell_type": "code",
      "source": [
        "!pip install --upgrade \"jax[cuda]\" -f https://storage.googleapis.com/jax-releases/jax_releases.html"
      ],
      "metadata": {
        "colab": {
          "base_uri": "https://localhost:8080/"
        },
        "id": "PQCAVAePHukH",
        "outputId": "86fc36ff-c5e7-48df-87f6-c52e9e079bb6"
      },
      "execution_count": null,
      "outputs": [
        {
          "output_type": "stream",
          "name": "stdout",
          "text": [
            "Looking in indexes: https://pypi.org/simple, https://us-python.pkg.dev/colab-wheels/public/simple/\n",
            "Looking in links: https://storage.googleapis.com/jax-releases/jax_releases.html\n",
            "Requirement already satisfied: jax[cuda] in /usr/local/lib/python3.10/dist-packages (0.4.10)\n",
            "Collecting jax[cuda]\n",
            "  Downloading jax-0.4.11.tar.gz (1.3 MB)\n",
            "\u001b[2K     \u001b[90m━━━━━━━━━━━━━━━━━━━━━━━━━━━━━━━━━━━━━━━━\u001b[0m \u001b[32m1.3/1.3 MB\u001b[0m \u001b[31m19.7 MB/s\u001b[0m eta \u001b[36m0:00:00\u001b[0m\n",
            "\u001b[?25h  Installing build dependencies ... \u001b[?25l\u001b[?25hdone\n",
            "  Getting requirements to build wheel ... \u001b[?25l\u001b[?25hdone\n",
            "  Preparing metadata (pyproject.toml) ... \u001b[?25l\u001b[?25hdone\n",
            "Requirement already satisfied: ml-dtypes>=0.1.0 in /usr/local/lib/python3.10/dist-packages (from jax[cuda]) (0.1.0)\n",
            "Requirement already satisfied: numpy>=1.21 in /usr/local/lib/python3.10/dist-packages (from jax[cuda]) (1.22.4)\n",
            "Requirement already satisfied: opt-einsum in /usr/local/lib/python3.10/dist-packages (from jax[cuda]) (3.3.0)\n",
            "Requirement already satisfied: scipy>=1.7 in /usr/local/lib/python3.10/dist-packages (from jax[cuda]) (1.10.1)\n",
            "INFO: pip is looking at multiple versions of jax[cuda] to determine which version is compatible with other requirements. This could take a while.\n",
            "Requirement already satisfied: jaxlib==0.4.10+cuda11.cudnn86 in /usr/local/lib/python3.10/dist-packages (from jax[cuda]) (0.4.10+cuda11.cudnn86)\n"
          ]
        }
      ]
    },
    {
      "cell_type": "code",
      "source": [
        "!pip install --upgrade netket"
      ],
      "metadata": {
        "id": "vLSqb2vjgMpf",
        "colab": {
          "base_uri": "https://localhost:8080/"
        },
        "outputId": "651c173c-e5c7-4e25-9581-774781b34f94"
      },
      "execution_count": null,
      "outputs": [
        {
          "output_type": "stream",
          "name": "stdout",
          "text": [
            "Looking in indexes: https://pypi.org/simple, https://us-python.pkg.dev/colab-wheels/public/simple/\n",
            "Collecting netket\n",
            "  Downloading netket-3.8-py3-none-any.whl (485 kB)\n",
            "\u001b[2K     \u001b[90m━━━━━━━━━━━━━━━━━━━━━━━━━━━━━━━━━━━━━━━\u001b[0m \u001b[32m485.9/485.9 kB\u001b[0m \u001b[31m9.0 MB/s\u001b[0m eta \u001b[36m0:00:00\u001b[0m\n",
            "\u001b[?25hRequirement already satisfied: flax<0.7,>=0.6 in /usr/local/lib/python3.10/dist-packages (from netket) (0.6.11)\n",
            "Collecting igraph<0.11.0,>=0.9.8 (from netket)\n",
            "  Downloading igraph-0.10.4-cp39-abi3-manylinux_2_17_x86_64.manylinux2014_x86_64.whl (3.3 MB)\n",
            "\u001b[2K     \u001b[90m━━━━━━━━━━━━━━━━━━━━━━━━━━━━━━━━━━━━━━━━\u001b[0m \u001b[32m3.3/3.3 MB\u001b[0m \u001b[31m31.2 MB/s\u001b[0m eta \u001b[36m0:00:00\u001b[0m\n",
            "\u001b[?25hRequirement already satisfied: jax<0.5,>=0.3.16 in /usr/local/lib/python3.10/dist-packages (from netket) (0.4.10)\n",
            "Requirement already satisfied: jaxlib<0.5,>=0.3.15 in /usr/local/lib/python3.10/dist-packages (from netket) (0.4.10+cuda11.cudnn86)\n",
            "Collecting numba4jax<0.1,>=0.0.10 (from netket)\n",
            "  Downloading numba4jax-0.0.10.post2-py3-none-any.whl (15 kB)\n",
            "Requirement already satisfied: numba<0.58,>=0.52 in /usr/local/lib/python3.10/dist-packages (from netket) (0.56.4)\n",
            "Requirement already satisfied: numpy~=1.20 in /usr/local/lib/python3.10/dist-packages (from netket) (1.22.4)\n",
            "Requirement already satisfied: optax<0.2,>=0.1.3 in /usr/local/lib/python3.10/dist-packages (from netket) (0.1.5)\n",
            "Collecting orjson<4,>=3.4 (from netket)\n",
            "  Downloading orjson-3.9.1-cp310-cp310-manylinux_2_17_x86_64.manylinux2014_x86_64.whl (136 kB)\n",
            "\u001b[2K     \u001b[90m━━━━━━━━━━━━━━━━━━━━━━━━━━━━━━━━━━━━━━\u001b[0m \u001b[32m137.0/137.0 kB\u001b[0m \u001b[31m14.3 MB/s\u001b[0m eta \u001b[36m0:00:00\u001b[0m\n",
            "\u001b[?25hCollecting plum-dispatch<3,>=1.5.1 (from netket)\n",
            "  Downloading plum_dispatch-2.1.1-py3-none-any.whl (28 kB)\n",
            "Requirement already satisfied: scipy<2,>=1.5.3 in /usr/local/lib/python3.10/dist-packages (from netket) (1.10.1)\n",
            "Requirement already satisfied: tqdm<5,>=4.60 in /usr/local/lib/python3.10/dist-packages (from netket) (4.65.0)\n",
            "Requirement already satisfied: msgpack in /usr/local/lib/python3.10/dist-packages (from flax<0.7,>=0.6->netket) (1.0.5)\n",
            "Requirement already satisfied: orbax-checkpoint in /usr/local/lib/python3.10/dist-packages (from flax<0.7,>=0.6->netket) (0.2.6)\n",
            "Requirement already satisfied: tensorstore in /usr/local/lib/python3.10/dist-packages (from flax<0.7,>=0.6->netket) (0.1.38)\n",
            "Requirement already satisfied: rich>=11.1 in /usr/local/lib/python3.10/dist-packages (from flax<0.7,>=0.6->netket) (13.4.2)\n",
            "Requirement already satisfied: typing-extensions>=4.1.1 in /usr/local/lib/python3.10/dist-packages (from flax<0.7,>=0.6->netket) (4.6.3)\n",
            "Requirement already satisfied: PyYAML>=5.4.1 in /usr/local/lib/python3.10/dist-packages (from flax<0.7,>=0.6->netket) (6.0)\n",
            "Collecting texttable>=1.6.2 (from igraph<0.11.0,>=0.9.8->netket)\n",
            "  Downloading texttable-1.6.7-py2.py3-none-any.whl (10 kB)\n",
            "Requirement already satisfied: ml-dtypes>=0.1.0 in /usr/local/lib/python3.10/dist-packages (from jax<0.5,>=0.3.16->netket) (0.2.0)\n",
            "Requirement already satisfied: opt-einsum in /usr/local/lib/python3.10/dist-packages (from jax<0.5,>=0.3.16->netket) (3.3.0)\n",
            "Requirement already satisfied: llvmlite<0.40,>=0.39.0dev0 in /usr/local/lib/python3.10/dist-packages (from numba<0.58,>=0.52->netket) (0.39.1)\n",
            "Requirement already satisfied: setuptools in /usr/local/lib/python3.10/dist-packages (from numba<0.58,>=0.52->netket) (67.7.2)\n",
            "Requirement already satisfied: cffi>=1.12 in /usr/local/lib/python3.10/dist-packages (from numba4jax<0.1,>=0.0.10->netket) (1.15.1)\n",
            "Requirement already satisfied: absl-py>=0.7.1 in /usr/local/lib/python3.10/dist-packages (from optax<0.2,>=0.1.3->netket) (1.4.0)\n",
            "Requirement already satisfied: chex>=0.1.5 in /usr/local/lib/python3.10/dist-packages (from optax<0.2,>=0.1.3->netket) (0.1.7)\n",
            "Collecting beartype (from plum-dispatch<3,>=1.5.1->netket)\n",
            "  Downloading beartype-0.14.1-py3-none-any.whl (739 kB)\n",
            "\u001b[2K     \u001b[90m━━━━━━━━━━━━━━━━━━━━━━━━━━━━━━━━━━━━━━\u001b[0m \u001b[32m739.7/739.7 kB\u001b[0m \u001b[31m34.2 MB/s\u001b[0m eta \u001b[36m0:00:00\u001b[0m\n",
            "\u001b[?25hRequirement already satisfied: pycparser in /usr/local/lib/python3.10/dist-packages (from cffi>=1.12->numba4jax<0.1,>=0.0.10->netket) (2.21)\n",
            "Requirement already satisfied: dm-tree>=0.1.5 in /usr/local/lib/python3.10/dist-packages (from chex>=0.1.5->optax<0.2,>=0.1.3->netket) (0.1.8)\n",
            "Requirement already satisfied: toolz>=0.9.0 in /usr/local/lib/python3.10/dist-packages (from chex>=0.1.5->optax<0.2,>=0.1.3->netket) (0.12.0)\n",
            "Requirement already satisfied: markdown-it-py>=2.2.0 in /usr/local/lib/python3.10/dist-packages (from rich>=11.1->flax<0.7,>=0.6->netket) (3.0.0)\n",
            "Requirement already satisfied: pygments<3.0.0,>=2.13.0 in /usr/local/lib/python3.10/dist-packages (from rich>=11.1->flax<0.7,>=0.6->netket) (2.14.0)\n",
            "Requirement already satisfied: cached_property in /usr/local/lib/python3.10/dist-packages (from orbax-checkpoint->flax<0.7,>=0.6->netket) (1.5.2)\n",
            "Requirement already satisfied: importlib_resources in /usr/local/lib/python3.10/dist-packages (from orbax-checkpoint->flax<0.7,>=0.6->netket) (5.12.0)\n",
            "Requirement already satisfied: etils in /usr/local/lib/python3.10/dist-packages (from orbax-checkpoint->flax<0.7,>=0.6->netket) (1.3.0)\n",
            "Requirement already satisfied: nest_asyncio in /usr/local/lib/python3.10/dist-packages (from orbax-checkpoint->flax<0.7,>=0.6->netket) (1.5.6)\n",
            "Requirement already satisfied: mdurl~=0.1 in /usr/local/lib/python3.10/dist-packages (from markdown-it-py>=2.2.0->rich>=11.1->flax<0.7,>=0.6->netket) (0.1.2)\n",
            "Installing collected packages: texttable, orjson, igraph, beartype, plum-dispatch, numba4jax, netket\n",
            "Successfully installed beartype-0.14.1 igraph-0.10.4 netket-3.8 numba4jax-0.0.10.post2 orjson-3.9.1 plum-dispatch-2.1.1 texttable-1.6.7\n"
          ]
        }
      ]
    },
    {
      "cell_type": "markdown",
      "source": [
        "We also want to make sure that Jax is running on the CPU. It benefits from a GPU only for large numbers of spins."
      ],
      "metadata": {
        "id": "a9jkt3aMgdsJ"
      }
    },
    {
      "cell_type": "code",
      "source": [
        "import os\n",
        "os.environ[\"JAX_PLATFORM_NAME\"] = \"cpu\""
      ],
      "metadata": {
        "id": "dxNsXoFHgOX8"
      },
      "execution_count": null,
      "outputs": []
    },
    {
      "cell_type": "markdown",
      "source": [
        "Check the install was successful and print the version."
      ],
      "metadata": {
        "id": "GnfP_psBgkB_"
      }
    },
    {
      "cell_type": "code",
      "source": [
        "import netket as nk\n",
        "print(f\"NetKet version: {nk.__version__}\")"
      ],
      "metadata": {
        "colab": {
          "base_uri": "https://localhost:8080/"
        },
        "id": "Aq6MigCNgcby",
        "outputId": "6e98b3e7-9aa1-4dd7-aab2-ab1cc3248254"
      },
      "execution_count": null,
      "outputs": [
        {
          "output_type": "stream",
          "name": "stdout",
          "text": [
            "NetKet version: 3.8\n"
          ]
        }
      ]
    },
    {
      "cell_type": "markdown",
      "source": [
        "## Defining the Hamiltonian"
      ],
      "metadata": {
        "id": "SFbcr1FajVHb"
      }
    },
    {
      "cell_type": "markdown",
      "source": [
        "Start by defining the Hamiltonian of the system. We first define the degrees of freedom we are dealing with by specifying the Hilbert space of the problem. We start with an example of $N\\times N$ spins on a lattice."
      ],
      "metadata": {
        "id": "A8olAjaag_Xm"
      }
    },
    {
      "cell_type": "code",
      "source": [
        "# size of lattice\n",
        "L = 4\n",
        "\n",
        "graph = nk.graph.Hypercube(length=L, n_dim=2, pbc=True)\n",
        "\n",
        "print(\"Number of edges in graph:\",graph.n_edges)\n",
        "print(\"Number of nodes in graph:\",graph.n_nodes)\n",
        "\n",
        "print(\"List of edges in graph:\",graph.edges())\n",
        "\n",
        "graph.draw()\n",
        "\n",
        "# number of nodes in graph\n",
        "N = graph.n_nodes\n",
        "\n",
        "hi = nk.hilbert.Spin(s=1/2)**(N)"
      ],
      "metadata": {
        "id": "wqexYj-lgmyq",
        "colab": {
          "base_uri": "https://localhost:8080/",
          "height": 519
        },
        "outputId": "74df63c5-644b-425c-8c45-eb5e946ec921"
      },
      "execution_count": null,
      "outputs": [
        {
          "output_type": "stream",
          "name": "stdout",
          "text": [
            "Number of edges in graph: 32\n",
            "Number of nodes in graph: 16\n",
            "List of edges in graph: [(3, 7), (12, 13), (8, 9), (8, 12), (2, 14), (13, 14), (4, 5), (5, 6), (4, 8), (12, 15), (5, 9), (14, 15), (3, 15), (8, 11), (0, 1), (9, 10), (1, 2), (0, 4), (9, 13), (10, 11), (1, 5), (10, 14), (6, 7), (6, 10), (4, 7), (0, 3), (0, 12), (2, 3), (1, 13), (2, 6), (11, 15), (7, 11)]\n"
          ]
        },
        {
          "output_type": "display_data",
          "data": {
            "text/plain": [
              "<Figure size 640x480 with 1 Axes>"
            ],
            "image/png": "[encoded data removed]"
          },
          "metadata": {}
        }
      ]
    },
    {
      "cell_type": "markdown",
      "source": [
        "Now important Jax and generate two random states."
      ],
      "metadata": {
        "id": "ZHM9G3ZnhS4Z"
      }
    },
    {
      "cell_type": "code",
      "source": [
        "import jax\n",
        "\n",
        "hi.random_state(key=jax.random.PRNGKey(0), size=1)"
      ],
      "metadata": {
        "colab": {
          "base_uri": "https://localhost:8080/"
        },
        "id": "DuH0UwpBhRch",
        "outputId": "a74dc446-63b3-48be-fecc-c5291990d87c"
      },
      "execution_count": null,
      "outputs": [
        {
          "output_type": "execute_result",
          "data": {
            "text/plain": [
              "Array([[-1.,  1.,  1.,  1., -1., -1., -1., -1.,  1., -1.,  1.,  1., -1.,\n",
              "        -1.,  1., -1.]], dtype=float32)"
            ]
          },
          "metadata": {},
          "execution_count": 89
        }
      ]
    },
    {
      "cell_type": "markdown",
      "source": [
        "Next we specify the Hamiltonian. We use NetKet's LocalOperator function, which is the sum of arbitrary \"$k$-local\" operators. In our case, $\\sigma_i^{(x)}$ is a 1-local operator, and $\\sigma_i^{(z)}\\sigma_{j}^{(z)}$ is a 2-local operator. Start by importing the Pauli matrices."
      ],
      "metadata": {
        "id": "TY4Rfm4bh45b"
      }
    },
    {
      "cell_type": "code",
      "source": [
        "from netket.operator.spin import sigmax, sigmaz"
      ],
      "metadata": {
        "id": "wv7ugw3khzvZ"
      },
      "execution_count": null,
      "outputs": []
    },
    {
      "cell_type": "markdown",
      "source": [
        "Now add the 2-local interaction term. NetKet automatically sees products of local operators as tensor products.\n",
        "\n",
        "**WHAT DOES \"%N\" DO IN THIS?** It is mod N, so it wraps around at the end of the loop."
      ],
      "metadata": {
        "id": "ABu_qSbBip13"
      }
    },
    {
      "cell_type": "markdown",
      "source": [
        "Print edges of graph - these are non-repeated so can be summed over for nearest neighbour interactions."
      ],
      "metadata": {
        "id": "HjQ7VtehbOo5"
      }
    },
    {
      "cell_type": "markdown",
      "source": [
        "[(i,j) for (i,j) in graph.edges()] prints the edges of the graph."
      ],
      "metadata": {
        "id": "ehnz91y4dEBn"
      }
    },
    {
      "cell_type": "code",
      "source": [
        "J = 1.\n",
        "\n",
        "H = sum([-J*sigmax(hilbert=hi, site=i) for i in range(N)])\n",
        "\n",
        "h = 1.\n",
        "H = H + sum([-h*sigmaz(hilbert=hi, site=i)*sigmaz(hilbert=hi, site=j) for (i,j) in graph.edges()])"
      ],
      "metadata": {
        "id": "jnh99PbVinnO"
      },
      "execution_count": null,
      "outputs": []
    },
    {
      "cell_type": "markdown",
      "source": [
        "## Exact diagonalisation"
      ],
      "metadata": {
        "id": "JLlR2vbijZBs"
      }
    },
    {
      "cell_type": "markdown",
      "source": [
        "We can start by trying exact diagonalisation. This works by converting the Hamiltonian operator in a sparse matrix of size $2^{N^2} \\times 2^{N^2} = 1024 \\times 1024$."
      ],
      "metadata": {
        "id": "cHAcpHMyjfFl"
      }
    },
    {
      "cell_type": "code",
      "source": [
        "sp_h = H.to_sparse()\n",
        "\n",
        "sp_h.shape"
      ],
      "metadata": {
        "colab": {
          "base_uri": "https://localhost:8080/"
        },
        "id": "ChOcKGe7jF2X",
        "outputId": "7d979081-75a0-41f0-f292-06909c4c5169"
      },
      "execution_count": null,
      "outputs": [
        {
          "output_type": "execute_result",
          "data": {
            "text/plain": [
              "(65536, 65536)"
            ]
          },
          "metadata": {},
          "execution_count": 120
        }
      ]
    },
    {
      "cell_type": "markdown",
      "source": [
        "This is just a standard scipy sparse matrix, so we can use any (sparse) matrix diagonalisation routine to find the eigensystem. For example, we can find the two lowest eigenstates via:"
      ],
      "metadata": {
        "id": "9Mnye9_Gj_Q1"
      }
    },
    {
      "cell_type": "code",
      "source": [
        "# from scipy.sparse.linalg import eigsh\n",
        "\n",
        "# eig_vals, eig_vecs = eigsh(sp_h, k=2, which=\"SA\")\n",
        "\n",
        "eig_vals = nk.exact.lanczos_ed(H, k=6)\n",
        "\n",
        "print(\"Eigenvalues with sparse solver:\", eig_vals)\n",
        "\n",
        "print(\"Energy per site:\", eig_vals / (L**2))\n",
        "\n",
        "E_gs = eig_vals[0]"
      ],
      "metadata": {
        "colab": {
          "base_uri": "https://localhost:8080/"
        },
        "id": "ES1aXWvIj8QV",
        "outputId": "7023576b-d1b3-4cd6-be09-133360570cc5"
      },
      "execution_count": null,
      "outputs": [
        {
          "output_type": "stream",
          "name": "stdout",
          "text": [
            "Eigenvalues with sparse solver: [-34.01059755 -34.010597   -26.72506198 -26.72419744 -26.48006393\n",
            " -26.47987742]\n",
            "Energy per site: [-2.12566235 -2.12566231 -1.67031637 -1.67026234 -1.655004   -1.65499234]\n"
          ]
        }
      ]
    },
    {
      "cell_type": "markdown",
      "source": [],
      "metadata": {
        "id": "D_t2T0cNRye2"
      }
    },
    {
      "cell_type": "markdown",
      "source": [
        "## Neural network quantum state"
      ],
      "metadata": {
        "id": "Ql5eFRXplKjE"
      }
    },
    {
      "cell_type": "code",
      "source": [
        "# numerical operations in the model should always use jax.numpy\n",
        "# instead of numpy because jax supports computing derivatives.\n",
        "# If you want to better understand the difference between the two, check\n",
        "# https://flax.readthedocs.io/en/latest/notebooks/jax_for_the_impatient.html\n",
        "import jax.numpy as jnp\n",
        "\n",
        "# Flax is a framework to define models using jax\n",
        "import flax\n",
        "\n",
        "# we refer to `flax.linen` as `nn`. It's a repository of\n",
        "# layers, initializers and nonlinear functions.\n",
        "import flax.linen as nn"
      ],
      "metadata": {
        "id": "rBUvfGbxka0U"
      },
      "execution_count": null,
      "outputs": []
    },
    {
      "cell_type": "code",
      "source": [
        "# A Flax model must be a class subclassing `nn.Module`\n",
        "# The most compact way to define the model is this.\n",
        "# The __call__(self, x) function should take as\n",
        "# input a batch of states x.shape = (n_samples, L)\n",
        "# and should return a vector of n_samples log-amplitudes\n",
        "class FFN(nn.Module):\n",
        "\n",
        "    # You can define attributes at the module-level\n",
        "    # with a default. This allows you to easily change\n",
        "    # some hyper-parameter without redefining the whole\n",
        "    # flax module.\n",
        "    alpha : int = 1\n",
        "\n",
        "    @nn.compact\n",
        "    def __call__(self, x):\n",
        "\n",
        "        # here we construct the first dense layer using a\n",
        "        # pre-built implementation in flax.\n",
        "        # features is the number of output nodes\n",
        "        # bug in complex layers in flax has been fixed\n",
        "        dense = nn.Dense(features=self.alpha * x.shape[-1], kernel_init=nn.initializers.normal(stddev=0.01))\n",
        "\n",
        "        # we apply the dense layer to the input\n",
        "        y = dense(x)\n",
        "\n",
        "        # the non-linearity is a simple ReLu\n",
        "        y = nn.relu(y)\n",
        "\n",
        "        # sum the output\n",
        "        return jnp.sum(y, axis=-1)\n",
        "\n",
        "# Create an instance of the model.\n",
        "model = FFN(alpha=3)\n",
        "\n",
        "# Create the local sampler on the hilbert space\n",
        "sampler = nk.sampler.MetropolisLocal(hi)\n",
        "\n",
        "# Construct the variational state using the model and the sampler above.\n",
        "# n_samples specifies how many samples should be used to compute expectation\n",
        "# values.\n",
        "vstate = nk.vqs.MCState(sampler, model, n_samples=1000)\n",
        "\n",
        "vstate.n_parameters"
      ],
      "metadata": {
        "colab": {
          "base_uri": "https://localhost:8080/"
        },
        "id": "mURDGyk0mXPq",
        "outputId": "27c85224-4c42-423c-8ad1-885269e5e2b0"
      },
      "execution_count": null,
      "outputs": [
        {
          "output_type": "stream",
          "name": "stderr",
          "text": [
            "/usr/local/lib/python3.10/dist-packages/netket/vqs/mc/mc_state/state.py:58: UserWarning: n_samples=1000 (1000 per MPI rank) does not divide n_chains=16, increased to 1008 (1008 per MPI rank)\n",
            "  warnings.warn(\n"
          ]
        },
        {
          "output_type": "execute_result",
          "data": {
            "text/plain": [
              "12480"
            ]
          },
          "metadata": {},
          "execution_count": 13
        }
      ]
    },
    {
      "cell_type": "code",
      "source": [
        "# Then we create an optimiser from the standard library.\n",
        "# You can also use optax.\n",
        "optimizer = nk.optimizer.Sgd(learning_rate=0.1)\n",
        "\n",
        "# build the optimisation driver\n",
        "# Notice the use of Stochastic Reconfiguration which considerably improves the optimisation\n",
        "gs = nk.driver.VMC(H, optimizer, variational_state=vstate, preconditioner=nk.optimizer.SR(diag_shift=0.1))\n",
        "\n",
        "log = nk.logging.RuntimeLog()\n",
        "\n",
        "gs.run(n_iter=600, out=log)\n",
        "\n",
        "ffn_energy = vstate.expect(H)\n",
        "\n",
        "error = abs((ffn_energy.mean - E_gs)/E_gs)\n",
        "\n",
        "print(\"Optimised energy and relative error:\", ffn_energy,error)"
      ],
      "metadata": {
        "colab": {
          "base_uri": "https://localhost:8080/"
        },
        "id": "GQ1HgVmnm387",
        "outputId": "d2f1fe4c-d718-4982-d8b7-5b3de419499e"
      },
      "execution_count": null,
      "outputs": [
        {
          "output_type": "stream",
          "name": "stderr",
          "text": [
            " 27%|██▋       | 161/600 [03:10<08:02,  1.10s/it, Energy=-64.10 ± 0.10 [σ²=10.47, R̂=1.0069]]"
          ]
        }
      ]
    },
    {
      "cell_type": "code",
      "source": [
        "data_FFN = log.data\n",
        "\n",
        "from matplotlib import pyplot as plt\n",
        "\n",
        "plt.errorbar(data_FFN[\"Energy\"].iters, data_FFN[\"Energy\"].Mean, yerr=data_FFN[\"Energy\"].Sigma, label=\"FFN\")\n",
        "plt.hlines([E_gs], xmin=0, xmax=300, color='black', label=\"Exact\")\n",
        "plt.legend()\n",
        "\n",
        "plt.xlabel('Iterations')\n",
        "plt.ylabel('Energy')"
      ],
      "metadata": {
        "colab": {
          "base_uri": "https://localhost:8080/",
          "height": 466
        },
        "id": "Yn2EvyZxns0J",
        "outputId": "e9ee7b97-78d3-4a02-f07c-2059a45458ca"
      },
      "execution_count": null,
      "outputs": [
        {
          "output_type": "execute_result",
          "data": {
            "text/plain": [
              "Text(0, 0.5, 'Energy')"
            ]
          },
          "metadata": {},
          "execution_count": 97
        },
        {
          "output_type": "display_data",
          "data": {
            "text/plain": [
              "<Figure size 640x480 with 1 Axes>"
            ],
            "image/png": "[encoded data removed]"
          },
          "metadata": {}
        }
      ]
    },
    {
      "cell_type": "markdown",
      "source": [
        "## Translation symmetry"
      ],
      "metadata": {
        "id": "Wbz-U_pCpuqd"
      }
    },
    {
      "cell_type": "markdown",
      "source": [
        "In order to enforce spatial symmetries we can use some built-in functionalities of NetKet, in conjunction with equivariant layers.\n",
        "\n",
        "The first step is to construct explicitly a graph that contains the edges of our interactions, in this case this is a simple chain with periodic boundaries. NetKet has builtin several symmetry groups that can be used to target specific spatial symmetries. In this case for example after constructing the graph we can also print its translation group."
      ],
      "metadata": {
        "id": "Q-7GOWYFpyJg"
      }
    },
    {
      "cell_type": "code",
      "source": [
        "print(graph.translation_group())"
      ],
      "metadata": {
        "colab": {
          "base_uri": "https://localhost:8080/"
        },
        "id": "0onz405fn-Vw",
        "outputId": "e0ffd364-a390-41af-d751-cc0780b2fa6a"
      },
      "execution_count": null,
      "outputs": [
        {
          "output_type": "stream",
          "name": "stdout",
          "text": [
            "PermutationGroup(elems=[Id(), Translation([0, 1]), Translation([0, 2]), Translation([0, 3]), Translation([0, 4]), Translation([1, 0]), Translation([1, 1]), Translation([1, 2]), Translation([1, 3]), Translation([1, 4]), Translation([2, 0]), Translation([2, 1]), Translation([2, 2]), Translation([2, 3]), Translation([2, 4]), Translation([3, 0]), Translation([3, 1]), Translation([3, 2]), Translation([3, 3]), Translation([3, 4]), Translation([4, 0]), Translation([4, 1]), Translation([4, 2]), Translation([4, 3]), Translation([4, 4])], degree=25)\n"
          ]
        }
      ]
    },
    {
      "cell_type": "markdown",
      "source": [
        "Graphs are in general quite handy when defining hamiltonian terms on their edges. For example we can define our Hamiltonian as\n",
        "```\n",
        "Gamma=-1\n",
        "H = sum([Gamma*sigmax(hi,i) for i in range(N)])\n",
        "\n",
        "V=-1\n",
        "H += sum([V*sigmaz(hi,i)*sigmaz(hi,j) for (i,j) in graph.edges()])\n",
        "```\n",
        "\n"
      ],
      "metadata": {
        "id": "vKAh7W52qLUU"
      }
    },
    {
      "cell_type": "markdown",
      "source": [
        "We now write a model with an invariant transformation given by the translation group. Notice that we now use NetKet's own nn module, instead of Flax, since it contains several additions."
      ],
      "metadata": {
        "id": "clqtHuURqUE1"
      }
    },
    {
      "cell_type": "code",
      "source": [
        "class SymmModel(nn.Module):\n",
        "    alpha: int = 1\n",
        "\n",
        "    @nn.compact\n",
        "    def __call__(self, x):\n",
        "\n",
        "        x = x.reshape(-1, 1, x.shape[-1])\n",
        "\n",
        "        x = nk.nn.DenseSymm(symmetries=graph.translation_group(),\n",
        "                           features=self.alpha,\n",
        "                           kernel_init=nn.initializers.normal(stddev=0.01))(x)\n",
        "        x = nn.relu(x)\n",
        "\n",
        "        # sum the output\n",
        "        return jnp.sum(x,axis=(-1,-2))\n",
        "\n",
        "\n",
        "sampler = nk.sampler.MetropolisLocal(hi)\n",
        "\n",
        "# Let us define a model with 3 features per symmetry\n",
        "model=SymmModel(alpha=3)\n",
        "\n",
        "vstate = nk.vqs.MCState(sampler, model, n_samples=10000)\n",
        "\n",
        "vstate.n_parameters"
      ],
      "metadata": {
        "colab": {
          "base_uri": "https://localhost:8080/"
        },
        "id": "Ad8aSLG3p1ps",
        "outputId": "50ea92b9-5f25-420a-bd78-bc0925a0f86a"
      },
      "execution_count": null,
      "outputs": [
        {
          "output_type": "execute_result",
          "data": {
            "text/plain": [
              "78"
            ]
          },
          "metadata": {},
          "execution_count": 101
        }
      ]
    },
    {
      "cell_type": "markdown",
      "source": [
        "As it can be seen, the number of parameters of this model is greatly reduced, because of the symmetries that impose constraints on the weights of the dense layers. We can now optimize the model, using a few more optimization steps than before."
      ],
      "metadata": {
        "id": "HanKAHjkrGka"
      }
    },
    {
      "cell_type": "code",
      "source": [
        "optimizer = nk.optimizer.Sgd(learning_rate=0.1)\n",
        "\n",
        "gs = nk.driver.VMC(H, optimizer, variational_state=vstate,preconditioner=nk.optimizer.SR(diag_shift=0.1))\n",
        "\n",
        "log=nk.logging.RuntimeLog()\n",
        "gs.run(n_iter=600,out=log)\n",
        "\n",
        "symm_energy=vstate.expect(H)\n",
        "error=abs((symm_energy.mean-eig_vals[0])/eig_vals[0])\n",
        "print(\"Optimized energy and relative error: \",symm_energy,error)"
      ],
      "metadata": {
        "colab": {
          "base_uri": "https://localhost:8080/"
        },
        "id": "KkD1a0FEp9Z1",
        "outputId": "922efb96-6c26-4d37-ca4c-fdd1de6d20c7"
      },
      "execution_count": null,
      "outputs": [
        {
          "output_type": "stream",
          "name": "stderr",
          "text": [
            "100%|██████████████████████████| 600/600 [04:10<00:00,  2.40it/s, Energy=-53.141562 ± 0.000048 [σ²=0.000019, R̂=1.0009]]\n"
          ]
        },
        {
          "output_type": "stream",
          "name": "stdout",
          "text": [
            "Optimized energy and relative error:  -53.141543 ± 0.000046 [σ²=0.000020, R̂=1.0007] 0.5624995424452878\n"
          ]
        }
      ]
    },
    {
      "cell_type": "code",
      "source": [
        "plt.errorbar(data_FFN[\"Energy\"].iters[100:],data_FFN[\"Energy\"].Mean[100:],yerr=data_FFN[\"Energy\"].Sigma[100:],label=\"DenseModel\")\n",
        "plt.errorbar(log.data[\"Energy\"].iters[100:],log.data[\"Energy\"].Mean[100:],yerr=log.data[\"Energy\"].Sigma[100:],label=\"SymmModel\")\n",
        "\n",
        "#plt.axhline(y=eig_vals[0], xmin=0, xmax=log.data[\"Energy\"].iters[-1], linewidth=2, color=\"k\", label=\"Exact\")\n",
        "plt.xlabel('Iterations')\n",
        "plt.ylabel('Energy')\n",
        "plt.legend(frameon=False)"
      ],
      "metadata": {
        "colab": {
          "base_uri": "https://localhost:8080/",
          "height": 468
        },
        "id": "8BWs6opGrIbr",
        "outputId": "095219d4-0b60-44ef-8a9c-fb85e18b634e"
      },
      "execution_count": null,
      "outputs": [
        {
          "output_type": "execute_result",
          "data": {
            "text/plain": [
              "<matplotlib.legend.Legend at 0x7f285c486aa0>"
            ]
          },
          "metadata": {},
          "execution_count": 107
        },
        {
          "output_type": "display_data",
          "data": {
            "text/plain": [
              "<Figure size 640x480 with 1 Axes>"
            ],
            "image/png": "[encoded data removed]"
          },
          "metadata": {}
        }
      ]
    },
    {
      "cell_type": "markdown",
      "source": [
        "## Other properties"
      ],
      "metadata": {
        "id": "Vj2XEY__r5L-"
      }
    },
    {
      "cell_type": "markdown",
      "source": [
        "Once the model has been optimized, we can of course measure also other observables that are not the energy. For example, we could decide to measure the value of the nearest-neighbor $\\sigma^{(x)}-\\sigma^{(x)}$ correlator. Notice that since correlators do not enjoy the zero-variance principle as the Hamiltonian instead does, it is important to use a larger number of samples to have a sufficiently low error bar on their measurement."
      ],
      "metadata": {
        "id": "_yZnNHQqr6pp"
      }
    },
    {
      "cell_type": "code",
      "source": [
        "corr = sum([sigmax(hi,i)*sigmax(hi,j) for (i,j) in graph.edges()])\n",
        "\n",
        "vstate.n_samples=400000\n",
        "\n",
        "vstate.expect(corr)"
      ],
      "metadata": {
        "colab": {
          "base_uri": "https://localhost:8080/"
        },
        "id": "8GWopIBlrPkD",
        "outputId": "25e43e60-d756-4c67-fc04-47efeb491705"
      },
      "execution_count": null,
      "outputs": [
        {
          "output_type": "execute_result",
          "data": {
            "text/plain": [
              "10.871 ± 0.018 [σ²=31.497, R̂=1.0002]"
            ]
          },
          "metadata": {},
          "execution_count": 38
        }
      ]
    },
    {
      "cell_type": "markdown",
      "source": [
        "And we can further compare this to the exact diagonalisation result."
      ],
      "metadata": {
        "id": "9eiMYiZOsHqZ"
      }
    },
    {
      "cell_type": "code",
      "source": [
        "psi = eig_vecs[:, 0]\n",
        "exact_corr=psi@(corr.to_sparse()@psi)\n",
        "print(exact_corr)"
      ],
      "metadata": {
        "colab": {
          "base_uri": "https://localhost:8080/"
        },
        "id": "qz83gr4CsKqJ",
        "outputId": "2a552d76-6be0-4023-edaa-78d55f74707e"
      },
      "execution_count": null,
      "outputs": [
        {
          "output_type": "stream",
          "name": "stdout",
          "text": [
            "10.852248713127803\n"
          ]
        }
      ]
    },
    {
      "cell_type": "code",
      "source": [],
      "metadata": {
        "id": "p5HdhmEMsLHp"
      },
      "execution_count": null,
      "outputs": []
    }
  ]
}